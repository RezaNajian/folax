{
 "cells": [
  {
   "cell_type": "code",
   "execution_count": 17,
   "id": "4ae4d2b5-f234-48b8-8268-2e8315bf0603",
   "metadata": {
    "tags": []
   },
   "outputs": [],
   "source": [
    "import numpy as np\n",
    "import pickle"
   ]
  },
  {
   "cell_type": "code",
   "execution_count": 4,
   "id": "b1a83ee4-7662-4095-a144-bd1a25980503",
   "metadata": {
    "tags": []
   },
   "outputs": [],
   "source": [
    "model_settings = {\"L\":1,\"N\":51,\n",
    "                \"T_left\":1.0,\"T_right\":0.1}\n",
    "with open(f'fourier_control_dict_N_{model_settings[\"N\"]}.pkl', 'rb') as f:\n",
    "    loaded_dict = pickle.load(f)"
   ]
  },
  {
   "cell_type": "code",
   "execution_count": 8,
   "id": "5090c631-6365-41b3-bff2-2ac5566c5b3d",
   "metadata": {
    "tags": []
   },
   "outputs": [
    {
     "name": "stdout",
     "output_type": "stream",
     "text": [
      "(201, 10)\n"
     ]
    }
   ],
   "source": [
    "test = loaded_dict[\"coeffs_matrix\"]\n",
    "print(loaded_dict[\"coeffs_matrix\"].shape)"
   ]
  },
  {
   "cell_type": "code",
   "execution_count": 39,
   "id": "c9f9b7aa-7b4a-495f-8077-b1dd127a18bd",
   "metadata": {
    "tags": []
   },
   "outputs": [
    {
     "name": "stdout",
     "output_type": "stream",
     "text": [
      "201\n",
      "1\n",
      "(441,)\n"
     ]
    }
   ],
   "source": [
    "print(len(test))\n",
    "test2 = (test,)\n",
    "print(len(test2))\n",
    "coeffs_matrix = np.load(\"gaussian_kernel_50000_N21.npy\")\n",
    "print(coeffs_matrix[0].shape)"
   ]
  },
  {
   "cell_type": "code",
   "execution_count": 57,
   "id": "dc34d830-4aeb-445d-baff-c2c915952a1f",
   "metadata": {
    "tags": []
   },
   "outputs": [
    {
     "name": "stdout",
     "output_type": "stream",
     "text": [
      "(1,)\n",
      "(101,)\n"
     ]
    }
   ],
   "source": [
    "test3 = np.full((100),0.1)\n",
    "t_init = 0.0\n",
    "t_init = np.array([t_init])\n",
    "print(t_init.shape)\n",
    "test4 = np.hstack((t_init,test3))\n",
    "print(test4.shape)\n",
    "test4 = np.concatenate((t_init,coeffs_matrix[0]))\n",
    "# test4 = np.concatenate((t_init,coeffs_matrix.reshape(-1,1)))\n",
    "test4 = test4.reshape(-1,1).T\n",
    "# print(test4.shape)"
   ]
  },
  {
   "cell_type": "code",
   "execution_count": 60,
   "id": "39cc9614-d908-4274-81e9-e948ec0b8cc5",
   "metadata": {
    "tags": []
   },
   "outputs": [
    {
     "name": "stdout",
     "output_type": "stream",
     "text": [
      "0.0\n"
     ]
    }
   ],
   "source": [
    "print(test4[0,0])"
   ]
  },
  {
   "cell_type": "code",
   "execution_count": null,
   "id": "4d248b17-f22d-4616-b4a4-a882eeb2c579",
   "metadata": {},
   "outputs": [],
   "source": []
  },
  {
   "cell_type": "code",
   "execution_count": null,
   "id": "387239bd-3cb7-49d2-ad92-fe248b59986f",
   "metadata": {},
   "outputs": [],
   "source": []
  }
 ],
 "metadata": {
  "kernelspec": {
   "display_name": "Python 3 (ipykernel)",
   "language": "python",
   "name": "python3"
  },
  "language_info": {
   "codemirror_mode": {
    "name": "ipython",
    "version": 3
   },
   "file_extension": ".py",
   "mimetype": "text/x-python",
   "name": "python",
   "nbconvert_exporter": "python",
   "pygments_lexer": "ipython3",
   "version": "3.11.8"
  }
 },
 "nbformat": 4,
 "nbformat_minor": 5
}
